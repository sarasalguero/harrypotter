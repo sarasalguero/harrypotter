{
 "cells": [
  {
   "cell_type": "markdown",
   "metadata": {},
   "source": [
    "# Hechizos más usados"
   ]
  },
  {
   "cell_type": "code",
   "execution_count": 2,
   "metadata": {},
   "outputs": [],
   "source": [
    "import ssl\n",
    "ssl._create_default_https_context = ssl._create_unverified_context"
   ]
  },
  {
   "cell_type": "code",
   "execution_count": 3,
   "metadata": {},
   "outputs": [],
   "source": [
    "import pandas as pd"
   ]
  },
  {
   "cell_type": "markdown",
   "metadata": {},
   "source": [
    "## Top 10 personajes"
   ]
  },
  {
   "cell_type": "code",
   "execution_count": 4,
   "metadata": {},
   "outputs": [
    {
     "name": "stderr",
     "output_type": "stream",
     "text": [
      "\n",
      "KeyboardInterrupt\n",
      "\n"
     ]
    }
   ],
   "source": [
    "Top_10 = pd.read_csv('csv/Personajes_relevantes/Total_Top_10.csv')\n",
    "Top_10"
   ]
  },
  {
   "cell_type": "markdown",
   "metadata": {},
   "source": [
    "Traemos los diálogos para trabajar con ellos"
   ]
  },
  {
   "cell_type": "code",
   "execution_count": null,
   "metadata": {},
   "outputs": [
    {
     "data": {
      "text/html": [
       "<div>\n",
       "<style scoped>\n",
       "    .dataframe tbody tr th:only-of-type {\n",
       "        vertical-align: middle;\n",
       "    }\n",
       "\n",
       "    .dataframe tbody tr th {\n",
       "        vertical-align: top;\n",
       "    }\n",
       "\n",
       "    .dataframe thead th {\n",
       "        text-align: right;\n",
       "    }\n",
       "</style>\n",
       "<table border=\"1\" class=\"dataframe\">\n",
       "  <thead>\n",
       "    <tr style=\"text-align: right;\">\n",
       "      <th></th>\n",
       "      <th>movie</th>\n",
       "      <th>chapter</th>\n",
       "      <th>character</th>\n",
       "      <th>dialog</th>\n",
       "    </tr>\n",
       "  </thead>\n",
       "  <tbody>\n",
       "    <tr>\n",
       "      <th>0</th>\n",
       "      <td>Harry Potter and the Philosopher's Stone</td>\n",
       "      <td>Doorstep Delivery</td>\n",
       "      <td>Albus Dumbledore</td>\n",
       "      <td>I should have known that you would be here...P...</td>\n",
       "    </tr>\n",
       "    <tr>\n",
       "      <th>1</th>\n",
       "      <td>Harry Potter and the Philosopher's Stone</td>\n",
       "      <td>Doorstep Delivery</td>\n",
       "      <td>Minerva McGonagall</td>\n",
       "      <td>Good evening, Professor Dumbledore. Are the ru...</td>\n",
       "    </tr>\n",
       "    <tr>\n",
       "      <th>2</th>\n",
       "      <td>Harry Potter and the Philosopher's Stone</td>\n",
       "      <td>Doorstep Delivery</td>\n",
       "      <td>Albus Dumbledore</td>\n",
       "      <td>I'm afraid so, Professor. The good, and the bad.</td>\n",
       "    </tr>\n",
       "    <tr>\n",
       "      <th>3</th>\n",
       "      <td>Harry Potter and the Philosopher's Stone</td>\n",
       "      <td>Doorstep Delivery</td>\n",
       "      <td>Minerva McGonagall</td>\n",
       "      <td>And the boy?</td>\n",
       "    </tr>\n",
       "    <tr>\n",
       "      <th>4</th>\n",
       "      <td>Harry Potter and the Philosopher's Stone</td>\n",
       "      <td>Doorstep Delivery</td>\n",
       "      <td>Albus Dumbledore</td>\n",
       "      <td>Hagrid is bringing him.</td>\n",
       "    </tr>\n",
       "    <tr>\n",
       "      <th>...</th>\n",
       "      <td>...</td>\n",
       "      <td>...</td>\n",
       "      <td>...</td>\n",
       "      <td>...</td>\n",
       "    </tr>\n",
       "    <tr>\n",
       "      <th>7440</th>\n",
       "      <td>Harry Potter and the Deathly Hallows Part 2</td>\n",
       "      <td>Nineteen Years Later</td>\n",
       "      <td>Harry Potter</td>\n",
       "      <td>Then Slytherin House will have gained a wonder...</td>\n",
       "    </tr>\n",
       "    <tr>\n",
       "      <th>7441</th>\n",
       "      <td>Harry Potter and the Deathly Hallows Part 2</td>\n",
       "      <td>Nineteen Years Later</td>\n",
       "      <td>Albus Potter</td>\n",
       "      <td>Really?</td>\n",
       "    </tr>\n",
       "    <tr>\n",
       "      <th>7442</th>\n",
       "      <td>Harry Potter and the Deathly Hallows Part 2</td>\n",
       "      <td>Nineteen Years Later</td>\n",
       "      <td>Harry Potter</td>\n",
       "      <td>Really.</td>\n",
       "    </tr>\n",
       "    <tr>\n",
       "      <th>7443</th>\n",
       "      <td>Harry Potter and the Deathly Hallows Part 2</td>\n",
       "      <td>Nineteen Years Later</td>\n",
       "      <td>Harry Potter</td>\n",
       "      <td>Ready?</td>\n",
       "    </tr>\n",
       "    <tr>\n",
       "      <th>7444</th>\n",
       "      <td>Harry Potter and the Deathly Hallows Part 2</td>\n",
       "      <td>Nineteen Years Later</td>\n",
       "      <td>Albus Potter</td>\n",
       "      <td>Ready.</td>\n",
       "    </tr>\n",
       "  </tbody>\n",
       "</table>\n",
       "<p>7445 rows × 4 columns</p>\n",
       "</div>"
      ],
      "text/plain": [
       "                                            movie               chapter  \\\n",
       "0        Harry Potter and the Philosopher's Stone     Doorstep Delivery   \n",
       "1        Harry Potter and the Philosopher's Stone     Doorstep Delivery   \n",
       "2        Harry Potter and the Philosopher's Stone     Doorstep Delivery   \n",
       "3        Harry Potter and the Philosopher's Stone     Doorstep Delivery   \n",
       "4        Harry Potter and the Philosopher's Stone     Doorstep Delivery   \n",
       "...                                           ...                   ...   \n",
       "7440  Harry Potter and the Deathly Hallows Part 2  Nineteen Years Later   \n",
       "7441  Harry Potter and the Deathly Hallows Part 2  Nineteen Years Later   \n",
       "7442  Harry Potter and the Deathly Hallows Part 2  Nineteen Years Later   \n",
       "7443  Harry Potter and the Deathly Hallows Part 2  Nineteen Years Later   \n",
       "7444  Harry Potter and the Deathly Hallows Part 2  Nineteen Years Later   \n",
       "\n",
       "               character                                             dialog  \n",
       "0       Albus Dumbledore  I should have known that you would be here...P...  \n",
       "1     Minerva McGonagall  Good evening, Professor Dumbledore. Are the ru...  \n",
       "2       Albus Dumbledore   I'm afraid so, Professor. The good, and the bad.  \n",
       "3     Minerva McGonagall                                       And the boy?  \n",
       "4       Albus Dumbledore                            Hagrid is bringing him.  \n",
       "...                  ...                                                ...  \n",
       "7440        Harry Potter  Then Slytherin House will have gained a wonder...  \n",
       "7441        Albus Potter                                            Really?  \n",
       "7442        Harry Potter                                            Really.  \n",
       "7443        Harry Potter                                             Ready?  \n",
       "7444        Albus Potter                                             Ready.  \n",
       "\n",
       "[7445 rows x 4 columns]"
      ]
     },
     "execution_count": 4,
     "metadata": {},
     "output_type": "execute_result"
    }
   ],
   "source": [
    "Dialogos = pd.read_csv('csv/dialogos_completos.csv')\n",
    "Dialogos"
   ]
  },
  {
   "cell_type": "markdown",
   "metadata": {},
   "source": [
    "Sacamos los hechizos en una lista y los pasamos a minúsculas"
   ]
  },
  {
   "cell_type": "code",
   "execution_count": null,
   "metadata": {},
   "outputs": [
    {
     "data": {
      "text/plain": [
       "['accio',\n",
       " 'aguamenti',\n",
       " 'alarte ascendare',\n",
       " 'alohomora',\n",
       " 'arania exumai',\n",
       " 'arresto momentum',\n",
       " 'avada kedavra',\n",
       " 'bombarda',\n",
       " 'brackium emendo',\n",
       " 'cistem aperio',\n",
       " 'colloportus',\n",
       " 'confringo',\n",
       " 'crucio',\n",
       " 'diffindo',\n",
       " 'dissendium',\n",
       " 'engorgio',\n",
       " 'episkey',\n",
       " 'expecto patronum',\n",
       " 'expelliarmus',\n",
       " 'expulso',\n",
       " 'finite',\n",
       " 'homenum revelio',\n",
       " 'immobulus',\n",
       " 'impedimenta',\n",
       " 'imperio',\n",
       " 'incarcerous',\n",
       " 'incendio',\n",
       " 'levicorpus',\n",
       " 'locomotor',\n",
       " 'locomotor mortis',\n",
       " 'lumos',\n",
       " 'lumos maxima',\n",
       " 'lumos solem',\n",
       " 'muffliato',\n",
       " 'nox',\n",
       " 'obliviate',\n",
       " 'oculus reparo',\n",
       " 'oppugno',\n",
       " 'peskipiksi pesternomi',\n",
       " 'petrificus totalus',\n",
       " 'piertotum locomotor',\n",
       " 'portus',\n",
       " 'priori incantatem',\n",
       " 'protego',\n",
       " 'protego maxima',\n",
       " 'protego totalum',\n",
       " 'reducio',\n",
       " 'relashio',\n",
       " 'reparo',\n",
       " 'repello inimicum',\n",
       " 'repello muggletum',\n",
       " 'revelio',\n",
       " 'rictusempra',\n",
       " 'riddikulus',\n",
       " 'salvio hexia',\n",
       " 'sectumsempra',\n",
       " 'serpensortia',\n",
       " 'stupefy',\n",
       " 'vera verto',\n",
       " 'vipera evanesca',\n",
       " 'wingardium leviosa']"
      ]
     },
     "execution_count": 6,
     "metadata": {},
     "output_type": "execute_result"
    }
   ],
   "source": [
    "hechizos = pd.read_csv('csv/hechizos.csv') # compruebo que está ok\n",
    "incantation_list = hechizos['Incantation'].tolist()\n",
    "incantation_list = [palabra.lower() for palabra in incantation_list]\n",
    "incantation_list"
   ]
  },
  {
   "cell_type": "markdown",
   "metadata": {},
   "source": [
    "### Hermione"
   ]
  },
  {
   "cell_type": "code",
   "execution_count": null,
   "metadata": {},
   "outputs": [
    {
     "ename": "NameError",
     "evalue": "name 'Dialogos' is not defined",
     "output_type": "error",
     "traceback": [
      "\u001b[0;31m---------------------------------------------------------------------------\u001b[0m",
      "\u001b[0;31mNameError\u001b[0m                                 Traceback (most recent call last)",
      "\u001b[1;32m/Users/sarita/Documents/Mi carpeta/Mis cosas/2-Data_Analysis/EDA/notebooks/A_Hechizos_Filtrados.ipynb Celda 11\u001b[0m line \u001b[0;36m1\n\u001b[0;32m----> <a href='vscode-notebook-cell:/Users/sarita/Documents/Mi%20carpeta/Mis%20cosas/2-Data_Analysis/EDA/notebooks/A_Hechizos_Filtrados.ipynb#X13sZmlsZQ%3D%3D?line=0'>1</a>\u001b[0m dialogos_hermione \u001b[39m=\u001b[39m Dialogos[Dialogos[\u001b[39m'\u001b[39m\u001b[39mcharacter\u001b[39m\u001b[39m'\u001b[39m] \u001b[39m==\u001b[39m \u001b[39m'\u001b[39m\u001b[39mHermione Granger\u001b[39m\u001b[39m'\u001b[39m]\n\u001b[1;32m      <a href='vscode-notebook-cell:/Users/sarita/Documents/Mi%20carpeta/Mis%20cosas/2-Data_Analysis/EDA/notebooks/A_Hechizos_Filtrados.ipynb#X13sZmlsZQ%3D%3D?line=1'>2</a>\u001b[0m dialogos_hermione[\u001b[39m'\u001b[39m\u001b[39mdialog\u001b[39m\u001b[39m'\u001b[39m] \u001b[39m=\u001b[39m dialogos_hermione[\u001b[39m'\u001b[39m\u001b[39mdialog\u001b[39m\u001b[39m'\u001b[39m]\u001b[39m.\u001b[39mstr\u001b[39m.\u001b[39mlower()\n\u001b[1;32m      <a href='vscode-notebook-cell:/Users/sarita/Documents/Mi%20carpeta/Mis%20cosas/2-Data_Analysis/EDA/notebooks/A_Hechizos_Filtrados.ipynb#X13sZmlsZQ%3D%3D?line=2'>3</a>\u001b[0m dialogos_hermione\n",
      "\u001b[0;31mNameError\u001b[0m: name 'Dialogos' is not defined"
     ]
    }
   ],
   "source": [
    "dialogos_hermione = Dialogos[Dialogos['character'] == 'Hermione Granger']\n",
    "dialogos_hermione['dialog'] = dialogos_hermione['dialog'].str.lower()\n",
    "dialogos_hermione"
   ]
  },
  {
   "cell_type": "code",
   "execution_count": null,
   "metadata": {},
   "outputs": [
    {
     "data": {
      "text/html": [
       "<div>\n",
       "<style scoped>\n",
       "    .dataframe tbody tr th:only-of-type {\n",
       "        vertical-align: middle;\n",
       "    }\n",
       "\n",
       "    .dataframe tbody tr th {\n",
       "        vertical-align: top;\n",
       "    }\n",
       "\n",
       "    .dataframe thead th {\n",
       "        text-align: right;\n",
       "    }\n",
       "</style>\n",
       "<table border=\"1\" class=\"dataframe\">\n",
       "  <thead>\n",
       "    <tr style=\"text-align: right;\">\n",
       "      <th></th>\n",
       "      <th>Incantation</th>\n",
       "      <th>Repeticiones</th>\n",
       "    </tr>\n",
       "  </thead>\n",
       "  <tbody>\n",
       "    <tr>\n",
       "      <th>0</th>\n",
       "      <td>accio</td>\n",
       "      <td>0</td>\n",
       "    </tr>\n",
       "    <tr>\n",
       "      <th>1</th>\n",
       "      <td>aguamenti</td>\n",
       "      <td>0</td>\n",
       "    </tr>\n",
       "    <tr>\n",
       "      <th>2</th>\n",
       "      <td>alarte ascendare</td>\n",
       "      <td>0</td>\n",
       "    </tr>\n",
       "    <tr>\n",
       "      <th>3</th>\n",
       "      <td>alohomora</td>\n",
       "      <td>0</td>\n",
       "    </tr>\n",
       "    <tr>\n",
       "      <th>4</th>\n",
       "      <td>arania exumai</td>\n",
       "      <td>0</td>\n",
       "    </tr>\n",
       "    <tr>\n",
       "      <th>...</th>\n",
       "      <td>...</td>\n",
       "      <td>...</td>\n",
       "    </tr>\n",
       "    <tr>\n",
       "      <th>56</th>\n",
       "      <td>serpensortia</td>\n",
       "      <td>0</td>\n",
       "    </tr>\n",
       "    <tr>\n",
       "      <th>57</th>\n",
       "      <td>stupefy</td>\n",
       "      <td>0</td>\n",
       "    </tr>\n",
       "    <tr>\n",
       "      <th>58</th>\n",
       "      <td>vera verto</td>\n",
       "      <td>0</td>\n",
       "    </tr>\n",
       "    <tr>\n",
       "      <th>59</th>\n",
       "      <td>vipera evanesca</td>\n",
       "      <td>0</td>\n",
       "    </tr>\n",
       "    <tr>\n",
       "      <th>60</th>\n",
       "      <td>wingardium leviosa</td>\n",
       "      <td>0</td>\n",
       "    </tr>\n",
       "  </tbody>\n",
       "</table>\n",
       "<p>61 rows × 2 columns</p>\n",
       "</div>"
      ],
      "text/plain": [
       "           Incantation  Repeticiones\n",
       "0                accio             0\n",
       "1            aguamenti             0\n",
       "2     alarte ascendare             0\n",
       "3            alohomora             0\n",
       "4        arania exumai             0\n",
       "..                 ...           ...\n",
       "56        serpensortia             0\n",
       "57             stupefy             0\n",
       "58          vera verto             0\n",
       "59     vipera evanesca             0\n",
       "60  wingardium leviosa             0\n",
       "\n",
       "[61 rows x 2 columns]"
      ]
     },
     "execution_count": 10,
     "metadata": {},
     "output_type": "execute_result"
    }
   ],
   "source": [
    "repeticiones = {}\n",
    "\n",
    "# Inicializar el diccionario con 0 para cada hechizo\n",
    "for hechizo in incantation_list:\n",
    "    repeticiones[hechizo] = 0\n",
    "\n",
    "# Recorrer los diálogos y contar las repeticiones de las incantaciones\n",
    "for dialogo in dialogos_hermione['dialog']:\n",
    "    palabras = dialogo.split()  # Dividir el diálogo en palabras\n",
    "    for palabra in palabras:\n",
    "        palabra = palabra.strip('.,!?')  # Eliminar signos de puntuación\n",
    "        if palabra in repeticiones:\n",
    "            repeticiones[palabra] += 1\n",
    "\n",
    "# Crear un DataFrame a partir del diccionario de repeticiones\n",
    "resultado_hechizos_hermione = pd.DataFrame({'Incantation': repeticiones.keys(), 'Repeticiones': repeticiones.values()})\n",
    "resultado_hechizos_hermione"
   ]
  },
  {
   "cell_type": "markdown",
   "metadata": {},
   "source": [
    "Quitamos los ceros para ver cuántos se repiten"
   ]
  },
  {
   "cell_type": "code",
   "execution_count": null,
   "metadata": {},
   "outputs": [
    {
     "data": {
      "text/html": [
       "<div>\n",
       "<style scoped>\n",
       "    .dataframe tbody tr th:only-of-type {\n",
       "        vertical-align: middle;\n",
       "    }\n",
       "\n",
       "    .dataframe tbody tr th {\n",
       "        vertical-align: top;\n",
       "    }\n",
       "\n",
       "    .dataframe thead th {\n",
       "        text-align: right;\n",
       "    }\n",
       "</style>\n",
       "<table border=\"1\" class=\"dataframe\">\n",
       "  <thead>\n",
       "    <tr style=\"text-align: right;\">\n",
       "      <th></th>\n",
       "      <th>Incantation</th>\n",
       "      <th>Repeticiones</th>\n",
       "    </tr>\n",
       "  </thead>\n",
       "  <tbody>\n",
       "    <tr>\n",
       "      <th>48</th>\n",
       "      <td>reparo</td>\n",
       "      <td>1</td>\n",
       "    </tr>\n",
       "    <tr>\n",
       "      <th>51</th>\n",
       "      <td>revelio</td>\n",
       "      <td>1</td>\n",
       "    </tr>\n",
       "  </tbody>\n",
       "</table>\n",
       "</div>"
      ],
      "text/plain": [
       "   Incantation  Repeticiones\n",
       "48      reparo             1\n",
       "51     revelio             1"
      ]
     },
     "execution_count": 11,
     "metadata": {},
     "output_type": "execute_result"
    }
   ],
   "source": [
    "resultado_hechizos_hermione = resultado_hechizos_hermione[resultado_hechizos_hermione['Repeticiones'] != 0]\n",
    "resultado_hechizos_hermione"
   ]
  }
 ],
 "metadata": {
  "kernelspec": {
   "display_name": "Python 3",
   "language": "python",
   "name": "python3"
  },
  "language_info": {
   "codemirror_mode": {
    "name": "ipython",
    "version": 3
   },
   "file_extension": ".py",
   "mimetype": "text/x-python",
   "name": "python",
   "nbconvert_exporter": "python",
   "pygments_lexer": "ipython3",
   "version": "3.11.5"
  },
  "orig_nbformat": 4
 },
 "nbformat": 4,
 "nbformat_minor": 2
}
