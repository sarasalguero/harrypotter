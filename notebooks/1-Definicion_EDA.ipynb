{
 "cells": [
  {
   "cell_type": "markdown",
   "metadata": {},
   "source": [
    "![imagen](./img/Harry_Potter.png)"
   ]
  },
  {
   "cell_type": "markdown",
   "metadata": {},
   "source": [
    "# INFORMACIÓN DEL PROYECTO"
   ]
  },
  {
   "cell_type": "markdown",
   "metadata": {},
   "source": [
    "## Harry Po-potter y el prisionero del data"
   ]
  },
  {
   "cell_type": "markdown",
   "metadata": {},
   "source": [
    "### TEMA"
   ]
  },
  {
   "cell_type": "markdown",
   "metadata": {},
   "source": [
    "Analizaré la saga para descubrir cosas como cuáles son los personajes más relevantes y qué casa prefieren los potterheads.\n",
    "\n",
    "Para ello, voy a analizar las películas y no los libros."
   ]
  },
  {
   "cell_type": "markdown",
   "metadata": {},
   "source": [
    "### HIPÓTESIS"
   ]
  },
  {
   "cell_type": "markdown",
   "metadata": {},
   "source": [
    "* **Objetivo_1 (principal):** \"¿Qué personaje es más relevante en la saga? Teniendo en cuenta las veces que aparece, las veces que otros personajes le mencionan y proporcional al tiempo que viven.\"\n",
    "* **Hipotesis_1 (principal):**  \"Los tres personajes más relevantes serán Harry, Ron y Hermione. En ese orden. Problablemente, Dumbledore y Hagrid estén en el TOP5.\""
   ]
  },
  {
   "cell_type": "markdown",
   "metadata": {},
   "source": [
    "* **Objetivo_2:** \"¿Cuál es la casa más popular entre los potterheads?\"\n",
    "* **Hipotesis_2:** \"Gryffindor será la casa más popular seguida de Slytherin.\""
   ]
  },
  {
   "cell_type": "markdown",
   "metadata": {},
   "source": [
    "* **Objetivo_3:** \"¿Cuáles son las palabras más usadas de esos personajes relevantes?\"\n",
    "* **Hipotesis_3:** \"Las palabras destacadas serán un reflejo de su personalidad.\""
   ]
  },
  {
   "cell_type": "markdown",
   "metadata": {},
   "source": [
    "* **Objetivo_4:** \"¿Cuáles son las hechizos más usados por los personajes relevantes?\"\n",
    "* **Hipotesis_4:** \"Igual que pasaba con las palabras destacadas, los hechizos más usados serán un reflejo de su personalidad.\""
   ]
  },
  {
   "cell_type": "markdown",
   "metadata": {},
   "source": [
    "* **Objetivo_5:** \"¿Coinciden las casas más populares con las casas a las que pertenecen los personajes más relevantes.\"\n",
    "* **Hipotesis_5:** \"No coincidirán salvo en el caso del trío.\""
   ]
  },
  {
   "cell_type": "markdown",
   "metadata": {},
   "source": [
    "## OBTENCIÓN DE LOS DATOS"
   ]
  },
  {
   "cell_type": "markdown",
   "metadata": {},
   "source": [
    "### DATASETS Y FUENTES ALTERNATIVAS DE DATOS"
   ]
  },
  {
   "cell_type": "markdown",
   "metadata": {},
   "source": [
    "Incluye aquí una vista del dataset o datasets de los que partirás para poder evaluar tu hipótesis. <br>\n",
    "También incluye el origen de estos datos y su fuente."
   ]
  },
  {
   "cell_type": "code",
   "execution_count": 1,
   "metadata": {},
   "outputs": [],
   "source": [
    "import ssl\n",
    "ssl._create_default_https_context = ssl._create_unverified_context"
   ]
  },
  {
   "cell_type": "code",
   "execution_count": 2,
   "metadata": {},
   "outputs": [],
   "source": [
    "import numpy as np\n",
    "import pandas as pd"
   ]
  },
  {
   "cell_type": "code",
   "execution_count": 8,
   "metadata": {},
   "outputs": [],
   "source": [
    "\n",
    "df_1 = pd.read_csv('data/Spells.csv')\n",
    "fuente_1 = \"https://www.kaggle.com/datasets/maricinnamon/harry-potter-movies-dataset/data\"\n",
    "\n",
    "df_2 = pd.read_csv('data/Harry_Potter_Spells.csv', sep = \";\")\n",
    "fuente_2 = \"https://www.kaggle.com/datasets/juliasays/harry-potter-spells/data\"\n",
    "\n",
    "df_3 = pd.read_csv(\"data/Harry_Potter _All _movie _Chr Dialogs.csv\")\n",
    "fuente_3 = \"https://www.kaggle.com/datasets/vinittavde/harry-potter-dialogs?select=Harry+Potter+All+movie+Chr+Dialogs.csv\"\n",
    "\n",
    "# cuento con acceso a más dataframes, pero creo que estos están bastante completos y que no necesitaré echar mano de ellos."
   ]
  },
  {
   "cell_type": "code",
   "execution_count": null,
   "metadata": {},
   "outputs": [],
   "source": [
    "# además de los datasets encontrados, he buscado información en webs para ver qué casa es la más popular entre los potterheads.\n",
    "fuente_4 = \"https://es.fanpop.com/clubs/harry-potter-anime/picks/results/789175/what-best-hogwarts-house\"\n",
    "fuente_5 = \"https://spoiler.bolavip.com/cine/Los-fans-de-Harry-Potter-eligieron-cual-es-la-peor-casa-de-Hogwarts-20211019-0024.html\"\n",
    "fuente_6 = \"https://en.as.com/meristation/2023/02/14/news/1676340508_316027.html\"\n",
    "fuente_7 = \"https://www.forbes.com/sites/paultassi/2023/02/12/here-are-the-most-popular-hogwarts-legacy-houses-ranked/?sh=aa2af37e353e\"\n"
   ]
  },
  {
   "cell_type": "markdown",
   "metadata": {},
   "source": [
    "#### Conjuros"
   ]
  },
  {
   "cell_type": "markdown",
   "metadata": {},
   "source": [
    "##### Data set de conjuros más completo"
   ]
  },
  {
   "cell_type": "code",
   "execution_count": 6,
   "metadata": {},
   "outputs": [
    {
     "name": "stdout",
     "output_type": "stream",
     "text": [
      "<class 'pandas.core.frame.DataFrame'>\n",
      "RangeIndex: 61 entries, 0 to 60\n",
      "Data columns (total 5 columns):\n",
      " #   Column       Non-Null Count  Dtype \n",
      "---  ------       --------------  ----- \n",
      " 0   Spell ID     61 non-null     int64 \n",
      " 1   Incantation  61 non-null     object\n",
      " 2   Spell Name   61 non-null     object\n",
      " 3   Effect       61 non-null     object\n",
      " 4   Light        40 non-null     object\n",
      "dtypes: int64(1), object(4)\n",
      "memory usage: 2.5+ KB\n"
     ]
    }
   ],
   "source": [
    "df_1.info() # algunos conjuros tienen NaN en las luces porque no tienen color."
   ]
  },
  {
   "cell_type": "code",
   "execution_count": 22,
   "metadata": {},
   "outputs": [
    {
     "data": {
      "text/html": [
       "<div>\n",
       "<style scoped>\n",
       "    .dataframe tbody tr th:only-of-type {\n",
       "        vertical-align: middle;\n",
       "    }\n",
       "\n",
       "    .dataframe tbody tr th {\n",
       "        vertical-align: top;\n",
       "    }\n",
       "\n",
       "    .dataframe thead th {\n",
       "        text-align: right;\n",
       "    }\n",
       "</style>\n",
       "<table border=\"1\" class=\"dataframe\">\n",
       "  <thead>\n",
       "    <tr style=\"text-align: right;\">\n",
       "      <th></th>\n",
       "      <th>Spell ID</th>\n",
       "      <th>Incantation</th>\n",
       "      <th>Spell Name</th>\n",
       "      <th>Effect</th>\n",
       "      <th>Light</th>\n",
       "    </tr>\n",
       "  </thead>\n",
       "  <tbody>\n",
       "    <tr>\n",
       "      <th>0</th>\n",
       "      <td>1</td>\n",
       "      <td>Accio</td>\n",
       "      <td>Summoning Charm</td>\n",
       "      <td>Summons an object</td>\n",
       "      <td>NaN</td>\n",
       "    </tr>\n",
       "    <tr>\n",
       "      <th>1</th>\n",
       "      <td>2</td>\n",
       "      <td>Aguamenti</td>\n",
       "      <td>Water-Making Spell</td>\n",
       "      <td>Conjures water</td>\n",
       "      <td>Icy blue</td>\n",
       "    </tr>\n",
       "    <tr>\n",
       "      <th>2</th>\n",
       "      <td>3</td>\n",
       "      <td>Alarte Ascendare</td>\n",
       "      <td>Launch an object up into the air</td>\n",
       "      <td>Rockets target upward</td>\n",
       "      <td>Red</td>\n",
       "    </tr>\n",
       "    <tr>\n",
       "      <th>3</th>\n",
       "      <td>4</td>\n",
       "      <td>Alohomora</td>\n",
       "      <td>Unlocking Charm</td>\n",
       "      <td>Unlocks target</td>\n",
       "      <td>Blue</td>\n",
       "    </tr>\n",
       "    <tr>\n",
       "      <th>4</th>\n",
       "      <td>5</td>\n",
       "      <td>Arania Exumai</td>\n",
       "      <td>Spider repelling spell</td>\n",
       "      <td>Repels spiders</td>\n",
       "      <td>Blue</td>\n",
       "    </tr>\n",
       "  </tbody>\n",
       "</table>\n",
       "</div>"
      ],
      "text/plain": [
       "   Spell ID       Incantation                        Spell Name  \\\n",
       "0         1             Accio                   Summoning Charm   \n",
       "1         2         Aguamenti                Water-Making Spell   \n",
       "2         3  Alarte Ascendare  Launch an object up into the air   \n",
       "3         4         Alohomora                   Unlocking Charm   \n",
       "4         5     Arania Exumai            Spider repelling spell   \n",
       "\n",
       "                  Effect     Light  \n",
       "0      Summons an object       NaN  \n",
       "1         Conjures water  Icy blue  \n",
       "2  Rockets target upward       Red  \n",
       "3         Unlocks target      Blue  \n",
       "4         Repels spiders      Blue  "
      ]
     },
     "execution_count": 22,
     "metadata": {},
     "output_type": "execute_result"
    }
   ],
   "source": [
    "# Primer dataset. Incluye los conjuros. Tendré que eliminar la columna spell ID para empezar.\n",
    "df_1.head()"
   ]
  },
  {
   "cell_type": "code",
   "execution_count": 23,
   "metadata": {},
   "outputs": [
    {
     "data": {
      "text/html": [
       "<div>\n",
       "<style scoped>\n",
       "    .dataframe tbody tr th:only-of-type {\n",
       "        vertical-align: middle;\n",
       "    }\n",
       "\n",
       "    .dataframe tbody tr th {\n",
       "        vertical-align: top;\n",
       "    }\n",
       "\n",
       "    .dataframe thead th {\n",
       "        text-align: right;\n",
       "    }\n",
       "</style>\n",
       "<table border=\"1\" class=\"dataframe\">\n",
       "  <thead>\n",
       "    <tr style=\"text-align: right;\">\n",
       "      <th></th>\n",
       "      <th>Spell ID</th>\n",
       "      <th>Incantation</th>\n",
       "      <th>Spell Name</th>\n",
       "      <th>Effect</th>\n",
       "      <th>Light</th>\n",
       "    </tr>\n",
       "  </thead>\n",
       "  <tbody>\n",
       "    <tr>\n",
       "      <th>56</th>\n",
       "      <td>57</td>\n",
       "      <td>Serpensortia</td>\n",
       "      <td>Snake Summons Spell</td>\n",
       "      <td>Conjures snake</td>\n",
       "      <td>White</td>\n",
       "    </tr>\n",
       "    <tr>\n",
       "      <th>57</th>\n",
       "      <td>58</td>\n",
       "      <td>Stupefy</td>\n",
       "      <td>Stunning Spell</td>\n",
       "      <td>Knocks out target</td>\n",
       "      <td>Red</td>\n",
       "    </tr>\n",
       "    <tr>\n",
       "      <th>58</th>\n",
       "      <td>59</td>\n",
       "      <td>Vera Verto</td>\n",
       "      <td>Vera Verto</td>\n",
       "      <td>Transforms animals into water goblets</td>\n",
       "      <td>Crystal clear</td>\n",
       "    </tr>\n",
       "    <tr>\n",
       "      <th>59</th>\n",
       "      <td>60</td>\n",
       "      <td>Vipera Evanesca</td>\n",
       "      <td>Snake-Vanishing Spell</td>\n",
       "      <td>Vanishes snakes</td>\n",
       "      <td>Black smoke</td>\n",
       "    </tr>\n",
       "    <tr>\n",
       "      <th>60</th>\n",
       "      <td>61</td>\n",
       "      <td>Wingardium Leviosa</td>\n",
       "      <td>Levitation Charm</td>\n",
       "      <td>Makes objects fly</td>\n",
       "      <td>NaN</td>\n",
       "    </tr>\n",
       "  </tbody>\n",
       "</table>\n",
       "</div>"
      ],
      "text/plain": [
       "    Spell ID         Incantation             Spell Name  \\\n",
       "56        57        Serpensortia    Snake Summons Spell   \n",
       "57        58             Stupefy         Stunning Spell   \n",
       "58        59          Vera Verto             Vera Verto   \n",
       "59        60     Vipera Evanesca  Snake-Vanishing Spell   \n",
       "60        61  Wingardium Leviosa       Levitation Charm   \n",
       "\n",
       "                                   Effect          Light  \n",
       "56                         Conjures snake          White  \n",
       "57                      Knocks out target            Red  \n",
       "58  Transforms animals into water goblets  Crystal clear  \n",
       "59                        Vanishes snakes    Black smoke  \n",
       "60                      Makes objects fly            NaN  "
      ]
     },
     "execution_count": 23,
     "metadata": {},
     "output_type": "execute_result"
    }
   ],
   "source": [
    "df_1.tail() # tiene 61 hechizos nada más y nada menos."
   ]
  },
  {
   "cell_type": "markdown",
   "metadata": {},
   "source": [
    "##### Data set de conjuros menos completo pero que va a complementar al anterior"
   ]
  },
  {
   "cell_type": "code",
   "execution_count": 9,
   "metadata": {},
   "outputs": [
    {
     "name": "stdout",
     "output_type": "stream",
     "text": [
      "<class 'pandas.core.frame.DataFrame'>\n",
      "RangeIndex: 10 entries, 0 to 9\n",
      "Data columns (total 4 columns):\n",
      " #   Column                         Non-Null Count  Dtype \n",
      "---  ------                         --------------  ----- \n",
      " 0   Number                         10 non-null     int64 \n",
      " 1   Name of the spell              10 non-null     object\n",
      " 2   What is does                   10 non-null     object\n",
      " 3   Complexity (from 1 to 7 year)  10 non-null     int64 \n",
      "dtypes: int64(2), object(2)\n",
      "memory usage: 452.0+ bytes\n"
     ]
    }
   ],
   "source": [
    "df_2.info()"
   ]
  },
  {
   "cell_type": "code",
   "execution_count": 10,
   "metadata": {},
   "outputs": [
    {
     "data": {
      "text/html": [
       "<div>\n",
       "<style scoped>\n",
       "    .dataframe tbody tr th:only-of-type {\n",
       "        vertical-align: middle;\n",
       "    }\n",
       "\n",
       "    .dataframe tbody tr th {\n",
       "        vertical-align: top;\n",
       "    }\n",
       "\n",
       "    .dataframe thead th {\n",
       "        text-align: right;\n",
       "    }\n",
       "</style>\n",
       "<table border=\"1\" class=\"dataframe\">\n",
       "  <thead>\n",
       "    <tr style=\"text-align: right;\">\n",
       "      <th></th>\n",
       "      <th>Number</th>\n",
       "      <th>Name of the spell</th>\n",
       "      <th>What is does</th>\n",
       "      <th>Complexity (from 1 to 7 year)</th>\n",
       "    </tr>\n",
       "  </thead>\n",
       "  <tbody>\n",
       "    <tr>\n",
       "      <th>0</th>\n",
       "      <td>1</td>\n",
       "      <td>Expecto Patronum</td>\n",
       "      <td>Gets rid of pesky Dementors by summoning a bad...</td>\n",
       "      <td>5</td>\n",
       "    </tr>\n",
       "    <tr>\n",
       "      <th>1</th>\n",
       "      <td>2</td>\n",
       "      <td>Accio</td>\n",
       "      <td>The perfect charm for lazy people who can't be...</td>\n",
       "      <td>3</td>\n",
       "    </tr>\n",
       "    <tr>\n",
       "      <th>2</th>\n",
       "      <td>3</td>\n",
       "      <td>Wingardium Leviosa</td>\n",
       "      <td>Makes things levitate. Sounds fun.</td>\n",
       "      <td>1</td>\n",
       "    </tr>\n",
       "    <tr>\n",
       "      <th>3</th>\n",
       "      <td>4</td>\n",
       "      <td>Expelliarmus</td>\n",
       "      <td>Basically the only spell Harry ever uses when ...</td>\n",
       "      <td>4</td>\n",
       "    </tr>\n",
       "    <tr>\n",
       "      <th>4</th>\n",
       "      <td>5</td>\n",
       "      <td>Lumos</td>\n",
       "      <td>The spell equivalent of that little torch app ...</td>\n",
       "      <td>3</td>\n",
       "    </tr>\n",
       "    <tr>\n",
       "      <th>5</th>\n",
       "      <td>6</td>\n",
       "      <td>Alohomora</td>\n",
       "      <td>That one Hermione keeps using to unlock doors ...</td>\n",
       "      <td>1</td>\n",
       "    </tr>\n",
       "    <tr>\n",
       "      <th>6</th>\n",
       "      <td>7</td>\n",
       "      <td>Avada Kedavra</td>\n",
       "      <td>We all know what this one does.</td>\n",
       "      <td>7</td>\n",
       "    </tr>\n",
       "    <tr>\n",
       "      <th>7</th>\n",
       "      <td>8</td>\n",
       "      <td>Sectumsempra</td>\n",
       "      <td>A mouthful of a curse invented by troubled tee...</td>\n",
       "      <td>6</td>\n",
       "    </tr>\n",
       "    <tr>\n",
       "      <th>8</th>\n",
       "      <td>9</td>\n",
       "      <td>Obliviate</td>\n",
       "      <td>The charm Gilderoy Lockhart uses to accidental...</td>\n",
       "      <td>7</td>\n",
       "    </tr>\n",
       "    <tr>\n",
       "      <th>9</th>\n",
       "      <td>10</td>\n",
       "      <td>Riddikulus</td>\n",
       "      <td>Transforms nasty Boggarts from something scary...</td>\n",
       "      <td>3</td>\n",
       "    </tr>\n",
       "  </tbody>\n",
       "</table>\n",
       "</div>"
      ],
      "text/plain": [
       "   Number   Name of the spell  \\\n",
       "0       1    Expecto Patronum   \n",
       "1       2               Accio   \n",
       "2       3  Wingardium Leviosa   \n",
       "3       4        Expelliarmus   \n",
       "4       5               Lumos   \n",
       "5       6           Alohomora   \n",
       "6       7       Avada Kedavra   \n",
       "7       8        Sectumsempra   \n",
       "8       9           Obliviate   \n",
       "9      10          Riddikulus   \n",
       "\n",
       "                                        What is does  \\\n",
       "0  Gets rid of pesky Dementors by summoning a bad...   \n",
       "1  The perfect charm for lazy people who can't be...   \n",
       "2                 Makes things levitate. Sounds fun.   \n",
       "3  Basically the only spell Harry ever uses when ...   \n",
       "4  The spell equivalent of that little torch app ...   \n",
       "5  That one Hermione keeps using to unlock doors ...   \n",
       "6                    We all know what this one does.   \n",
       "7  A mouthful of a curse invented by troubled tee...   \n",
       "8  The charm Gilderoy Lockhart uses to accidental...   \n",
       "9  Transforms nasty Boggarts from something scary...   \n",
       "\n",
       "   Complexity (from 1 to 7 year)  \n",
       "0                              5  \n",
       "1                              3  \n",
       "2                              1  \n",
       "3                              4  \n",
       "4                              3  \n",
       "5                              1  \n",
       "6                              7  \n",
       "7                              6  \n",
       "8                              7  \n",
       "9                              3  "
      ]
     },
     "execution_count": 10,
     "metadata": {},
     "output_type": "execute_result"
    }
   ],
   "source": [
    "df_2.head(10) # aquí lo vemos entero"
   ]
  },
  {
   "cell_type": "markdown",
   "metadata": {},
   "source": [
    "#### Personajes y diálogos"
   ]
  },
  {
   "cell_type": "code",
   "execution_count": 5,
   "metadata": {},
   "outputs": [
    {
     "name": "stdout",
     "output_type": "stream",
     "text": [
      "<class 'pandas.core.frame.DataFrame'>\n",
      "RangeIndex: 7446 entries, 0 to 7445\n",
      "Data columns (total 4 columns):\n",
      " #   Column     Non-Null Count  Dtype \n",
      "---  ------     --------------  ----- \n",
      " 0   movie      7446 non-null   object\n",
      " 1   chapter    7446 non-null   object\n",
      " 2   character  7446 non-null   object\n",
      " 3   dialog     7445 non-null   object\n",
      "dtypes: object(4)\n",
      "memory usage: 232.8+ KB\n"
     ]
    }
   ],
   "source": [
    "df_3.info()"
   ]
  },
  {
   "cell_type": "code",
   "execution_count": 17,
   "metadata": {},
   "outputs": [
    {
     "data": {
      "text/html": [
       "<div>\n",
       "<style scoped>\n",
       "    .dataframe tbody tr th:only-of-type {\n",
       "        vertical-align: middle;\n",
       "    }\n",
       "\n",
       "    .dataframe tbody tr th {\n",
       "        vertical-align: top;\n",
       "    }\n",
       "\n",
       "    .dataframe thead th {\n",
       "        text-align: right;\n",
       "    }\n",
       "</style>\n",
       "<table border=\"1\" class=\"dataframe\">\n",
       "  <thead>\n",
       "    <tr style=\"text-align: right;\">\n",
       "      <th></th>\n",
       "      <th>movie</th>\n",
       "      <th>chapter</th>\n",
       "      <th>character</th>\n",
       "      <th>dialog</th>\n",
       "    </tr>\n",
       "  </thead>\n",
       "  <tbody>\n",
       "    <tr>\n",
       "      <th>0</th>\n",
       "      <td>Harry Potter and the Philosopher's Stone</td>\n",
       "      <td>Doorstep Delivery</td>\n",
       "      <td>Albus Dumbledore</td>\n",
       "      <td>I should have known that you would be here...P...</td>\n",
       "    </tr>\n",
       "    <tr>\n",
       "      <th>1</th>\n",
       "      <td>Harry Potter and the Philosopher's Stone</td>\n",
       "      <td>Doorstep Delivery</td>\n",
       "      <td>Minerva McGonagall</td>\n",
       "      <td>Good evening, Professor Dumbledore. Are the ru...</td>\n",
       "    </tr>\n",
       "    <tr>\n",
       "      <th>2</th>\n",
       "      <td>Harry Potter and the Philosopher's Stone</td>\n",
       "      <td>Doorstep Delivery</td>\n",
       "      <td>Albus Dumbledore</td>\n",
       "      <td>I'm afraid so, Professor. The good, and the bad.</td>\n",
       "    </tr>\n",
       "    <tr>\n",
       "      <th>3</th>\n",
       "      <td>Harry Potter and the Philosopher's Stone</td>\n",
       "      <td>Doorstep Delivery</td>\n",
       "      <td>Minerva McGonagall</td>\n",
       "      <td>And the boy?</td>\n",
       "    </tr>\n",
       "    <tr>\n",
       "      <th>4</th>\n",
       "      <td>Harry Potter and the Philosopher's Stone</td>\n",
       "      <td>Doorstep Delivery</td>\n",
       "      <td>Albus Dumbledore</td>\n",
       "      <td>Hagrid is bringing him.</td>\n",
       "    </tr>\n",
       "  </tbody>\n",
       "</table>\n",
       "</div>"
      ],
      "text/plain": [
       "                                      movie            chapter  \\\n",
       "0  Harry Potter and the Philosopher's Stone  Doorstep Delivery   \n",
       "1  Harry Potter and the Philosopher's Stone  Doorstep Delivery   \n",
       "2  Harry Potter and the Philosopher's Stone  Doorstep Delivery   \n",
       "3  Harry Potter and the Philosopher's Stone  Doorstep Delivery   \n",
       "4  Harry Potter and the Philosopher's Stone  Doorstep Delivery   \n",
       "\n",
       "            character                                             dialog  \n",
       "0    Albus Dumbledore  I should have known that you would be here...P...  \n",
       "1  Minerva McGonagall  Good evening, Professor Dumbledore. Are the ru...  \n",
       "2    Albus Dumbledore   I'm afraid so, Professor. The good, and the bad.  \n",
       "3  Minerva McGonagall                                       And the boy?  \n",
       "4    Albus Dumbledore                            Hagrid is bringing him.  "
      ]
     },
     "execution_count": 17,
     "metadata": {},
     "output_type": "execute_result"
    }
   ],
   "source": [
    "# Este dataset inclye información valiosa como todos los personajes del saga y todos sus diálogos así como las películas en las que salen.\n",
    "df_3.head()"
   ]
  },
  {
   "cell_type": "code",
   "execution_count": 18,
   "metadata": {},
   "outputs": [
    {
     "data": {
      "text/html": [
       "<div>\n",
       "<style scoped>\n",
       "    .dataframe tbody tr th:only-of-type {\n",
       "        vertical-align: middle;\n",
       "    }\n",
       "\n",
       "    .dataframe tbody tr th {\n",
       "        vertical-align: top;\n",
       "    }\n",
       "\n",
       "    .dataframe thead th {\n",
       "        text-align: right;\n",
       "    }\n",
       "</style>\n",
       "<table border=\"1\" class=\"dataframe\">\n",
       "  <thead>\n",
       "    <tr style=\"text-align: right;\">\n",
       "      <th></th>\n",
       "      <th>movie</th>\n",
       "      <th>chapter</th>\n",
       "      <th>character</th>\n",
       "      <th>dialog</th>\n",
       "    </tr>\n",
       "  </thead>\n",
       "  <tbody>\n",
       "    <tr>\n",
       "      <th>7441</th>\n",
       "      <td>Harry Potter and the Deathly Hallows Part 2</td>\n",
       "      <td>Nineteen Years Later</td>\n",
       "      <td>Harry Potter</td>\n",
       "      <td>Then Slytherin House will have gained a wonder...</td>\n",
       "    </tr>\n",
       "    <tr>\n",
       "      <th>7442</th>\n",
       "      <td>Harry Potter and the Deathly Hallows Part 2</td>\n",
       "      <td>Nineteen Years Later</td>\n",
       "      <td>Albus Potter</td>\n",
       "      <td>Really?</td>\n",
       "    </tr>\n",
       "    <tr>\n",
       "      <th>7443</th>\n",
       "      <td>Harry Potter and the Deathly Hallows Part 2</td>\n",
       "      <td>Nineteen Years Later</td>\n",
       "      <td>Harry Potter</td>\n",
       "      <td>Really.</td>\n",
       "    </tr>\n",
       "    <tr>\n",
       "      <th>7444</th>\n",
       "      <td>Harry Potter and the Deathly Hallows Part 2</td>\n",
       "      <td>Nineteen Years Later</td>\n",
       "      <td>Harry Potter</td>\n",
       "      <td>Ready?</td>\n",
       "    </tr>\n",
       "    <tr>\n",
       "      <th>7445</th>\n",
       "      <td>Harry Potter and the Deathly Hallows Part 2</td>\n",
       "      <td>Nineteen Years Later</td>\n",
       "      <td>Albus Potter</td>\n",
       "      <td>Ready.</td>\n",
       "    </tr>\n",
       "  </tbody>\n",
       "</table>\n",
       "</div>"
      ],
      "text/plain": [
       "                                            movie               chapter  \\\n",
       "7441  Harry Potter and the Deathly Hallows Part 2  Nineteen Years Later   \n",
       "7442  Harry Potter and the Deathly Hallows Part 2  Nineteen Years Later   \n",
       "7443  Harry Potter and the Deathly Hallows Part 2  Nineteen Years Later   \n",
       "7444  Harry Potter and the Deathly Hallows Part 2  Nineteen Years Later   \n",
       "7445  Harry Potter and the Deathly Hallows Part 2  Nineteen Years Later   \n",
       "\n",
       "         character                                             dialog  \n",
       "7441  Harry Potter  Then Slytherin House will have gained a wonder...  \n",
       "7442  Albus Potter                                            Really?  \n",
       "7443  Harry Potter                                            Really.  \n",
       "7444  Harry Potter                                             Ready?  \n",
       "7445  Albus Potter                                             Ready.  "
      ]
     },
     "execution_count": 18,
     "metadata": {},
     "output_type": "execute_result"
    }
   ],
   "source": [
    "df_3.tail() # cuenta con más de 7000 líneas de diálogo"
   ]
  }
 ],
 "metadata": {
  "kernelspec": {
   "display_name": "Python 3.7.4 64-bit",
   "language": "python",
   "name": "python3"
  },
  "language_info": {
   "codemirror_mode": {
    "name": "ipython",
    "version": 3
   },
   "file_extension": ".py",
   "mimetype": "text/x-python",
   "name": "python",
   "nbconvert_exporter": "python",
   "pygments_lexer": "ipython3",
   "version": "3.11.5"
  },
  "orig_nbformat": 4,
  "vscode": {
   "interpreter": {
    "hash": "90139cb9a825bf3d63f6f6704e828dbd1ff7edbd4d0c6e906a71235d6efc74af"
   }
  }
 },
 "nbformat": 4,
 "nbformat_minor": 2
}
